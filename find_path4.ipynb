{
 "cells": [
  {
   "cell_type": "markdown",
   "metadata": {},
   "source": [
    "已连接到 tensorflow_gpu (Python 3.10.14)"
   ]
  },
  {
   "cell_type": "code",
   "execution_count": null,
   "id": "58f01de3-665a-40c6-aa0a-33f6c5fa941f",
   "metadata": {},
   "outputs": [
    {
     "name": "stdout",
     "output_type": "stream",
     "text": [
      "对于固定 hpS1 = 12.0000，求得：\n",
      "  phiS1 = -0.0061\n",
      "  hpS2  = 5.9816\n",
      "  phiS2 = 0.0057\n",
      "对于 hpS1 = 12.0000，总能量 f = 0.0981\n"
     ]
    },
    {
     "name": "stderr",
     "output_type": "stream",
     "text": [
      "<ipython-input-1-50796b0b035a>:245: RuntimeWarning: The iteration is not making good progress, as measured by the \n",
      "  improvement from the last ten iterations.\n",
      "  sol = fsolve(equations_with_fixed_hpS1, initial_guess_fixed, args=(hpS1, r1, R1, r2, R2, theta_p0, hp0, n))\n",
      "<ipython-input-1-50796b0b035a>:245: RuntimeWarning: The iteration is not making good progress, as measured by the \n",
      "  improvement from the last five Jacobian evaluations.\n",
      "  sol = fsolve(equations_with_fixed_hpS1, initial_guess_fixed, args=(hpS1, r1, R1, r2, R2, theta_p0, hp0, n))\n",
      "c:\\Users\\Lenovo\\.conda\\envs\\tensorflow_gpu\\lib\\site-packages\\IPython\\core\\pylabtools.py:152: UserWarning: Glyph 36335 (\\N{CJK UNIFIED IDEOGRAPH-8DEF}) missing from current font.\n",
      "  fig.canvas.print_figure(bytes_io, **kw)\n",
      "c:\\Users\\Lenovo\\.conda\\envs\\tensorflow_gpu\\lib\\site-packages\\IPython\\core\\pylabtools.py:152: UserWarning: Glyph 24452 (\\N{CJK UNIFIED IDEOGRAPH-5F84}) missing from current font.\n",
      "  fig.canvas.print_figure(bytes_io, **kw)\n",
      "c:\\Users\\Lenovo\\.conda\\envs\\tensorflow_gpu\\lib\\site-packages\\IPython\\core\\pylabtools.py:152: UserWarning: Glyph 38382 (\\N{CJK UNIFIED IDEOGRAPH-95EE}) missing from current font.\n",
      "  fig.canvas.print_figure(bytes_io, **kw)\n",
      "c:\\Users\\Lenovo\\.conda\\envs\\tensorflow_gpu\\lib\\site-packages\\IPython\\core\\pylabtools.py:152: UserWarning: Glyph 39064 (\\N{CJK UNIFIED IDEOGRAPH-9898}) missing from current font.\n",
      "  fig.canvas.print_figure(bytes_io, **kw)\n"
     ]
    },
    {
     "data": {
      "image/png": "[encoded data removed]",
      "text/plain": [
       "<Figure size 640x480 with 1 Axes>"
      ]
     },
     "metadata": {},
     "output_type": "display_data"
    }
   ],
   "source": [
    "import numpy as np\n",
    "from scipy.optimize import fsolve\n",
    "import matplotlib.pyplot as plt\n",
    "\n",
    "# -------------------------------\n",
    "# 常数与基本函数\n",
    "# -------------------------------\n",
    "miu0 = 4 * np.pi * 10**-7\n",
    "mu0 = 4 * np.pi * 10**-7\n",
    "\n",
    "# 计算矢量差\n",
    "def rij(i, j, pts):\n",
    "    return pts[j] - pts[i]\n",
    "\n",
    "# 磁力计算\n",
    "def Fmag(mi, mj, rijVec, miu0):\n",
    "    mi = np.array(mi)\n",
    "    mj = np.array(mj)\n",
    "    rijVec = np.array(rijVec)\n",
    "    norm_rij = np.linalg.norm(rijVec)\n",
    "    dot_mi_rij = np.dot(mi, rijVec)\n",
    "    dot_mj_rij = np.dot(mj, rijVec)\n",
    "    dot_mi_mj = np.dot(mi, mj)\n",
    "    term1 = dot_mi_rij * mj + dot_mj_rij * mi + dot_mi_mj * rijVec\n",
    "    term2 = 5 * (dot_mi_rij * dot_mj_rij / norm_rij**2) * rijVec\n",
    "    return -3 * miu0 / (4 * np.pi * norm_rij**5) * (term1 - term2)\n",
    "\n",
    "def Tmag(mi, mj, rij, u0):\n",
    "    norm_rij = np.linalg.norm(rij)\n",
    "    #rij_normed = rij / norm_rij  # Unit vector in the direction of rij\n",
    "\n",
    "    # Calculate the components\n",
    "    term_1 = (np.dot(mi, rij) * mj[0] + np.dot(mj, rij) * mi[0] +\n",
    "              np.dot(mi, mj) * rij[0] - 5 * (np.dot(mi, rij) * np.dot(mj, rij) / norm_rij**2) * rij[0])\n",
    "\n",
    "    term_2 = (np.dot(mi, rij) * mj[1] + np.dot(mj, rij) * mi[1] +\n",
    "              np.dot(mi, mj) * rij[1] - 5 * (np.dot(mi, rij) * np.dot(mj, rij) / norm_rij**2) * rij[1])\n",
    "\n",
    "    result = -3 * u0 / (4 * np.pi * norm_rij**5) * (term_1 + term_2)\n",
    "    return result\n",
    "\n",
    "\n",
    "# 磁能量计算\n",
    "def Emag(mi, mj, rijVec, miu0):\n",
    "    norm_rij = np.linalg.norm(rijVec)\n",
    "    dot_mi_mi = np.dot(mi, mi)\n",
    "    dot_mi_rij = np.dot(mi, rijVec)\n",
    "    dot_mj_rij = np.dot(mj, rijVec)\n",
    "    return miu0 / (4 * np.pi) * (dot_mi_mi / norm_rij**3 - 3 * (dot_mi_rij * dot_mj_rij) / norm_rij**5)\n",
    "\n",
    "# 弹簧几何量\n",
    "def c(hs, phi, r, R, theta_p0):\n",
    "    return np.sqrt(hs**2 + r**2 + R**2 - 2 * R * r * np.cos(theta_p0 + phi))\n",
    "\n",
    "def d(hs, phi, r, R, theta_p0, n):\n",
    "    return np.sqrt(hs**2 + r**2 + R**2 - 2 * R * r * np.cos(theta_p0 + phi + 2 * np.pi / n))\n",
    "\n",
    "# 弹簧力\n",
    "def Fcc(hs, phi, r, R, theta_p0, hp0, kc):\n",
    "    return kc * (c(hs, phi, r, R, theta_p0) - c(hp0, 0, r, R, theta_p0))\n",
    "\n",
    "def Fdd(hs, phi, r, R, theta_p0, hp0, kd, n):\n",
    "    return kd * (d(hs, phi, r, R, theta_p0, n) - d(hp0, 0, r, R, theta_p0, n))\n",
    "\n",
    "# 力和力矩的角度量\n",
    "def Ac(hs, phi, r, R, theta_p0):\n",
    "    return np.arctan(np.sqrt(R**2 + r**2 - 2 * R * r * np.cos(theta_p0 + phi)) / hs)\n",
    "\n",
    "def Ad(hs, phi, r,  R,theta_p0, n):\n",
    "    return np.arctan(np.sqrt(R**2 + r**2 - 2 * R * r * np.cos(theta_p0 + phi + (2*np.pi)/n)) / hs)\n",
    "\n",
    "# Zeta 函数\n",
    "def zeta(x, r, R):\n",
    "    return np.sin(x) / np.sqrt(R**2 + r**2 - 2 * R * r * np.cos(x))\n",
    "\n",
    "# 总力函数（参数顺序：hs, phi, r, R, theta_p0, hp0, kc, kd, n）\n",
    "def Ftotal(hs, phi, r, R, theta_p0, hp0, kc, kd, n):\n",
    "    return n * (Fcc(hs, phi, r, R, theta_p0, hp0, kc) * np.cos(Ac(hs, phi, r,  R,theta_p0)) +\n",
    "                Fdd(hs, phi, r, R, theta_p0, hp0, kd, n) * np.cos(Ad(hs, phi, r, R, theta_p0, n)))\n",
    "\n",
    "# 总力矩函数（返回标量，实际取的是 z 分量）\n",
    "def Ttotal(hs, phi, r, R, theta_p0, hp0, kc, kd, n):\n",
    "    return n * R * r * (Fcc(hs, phi, r, R, theta_p0, hp0, kc) * np.sin(Ac(hs, phi, r, R, theta_p0)) *\n",
    "                        zeta(theta_p0 + phi, r, R) +\n",
    "                        Fdd(hs, phi, r, R, theta_p0, hp0, kd, n) * np.sin(Ad(hs, phi, r, R, theta_p0, n)) *\n",
    "                        zeta(theta_p0 + phi + (2*np.pi)/n, r, R))\n",
    "\n",
    "# 计算平面之间的夹角（暂未在后续使用）\n",
    "def angleBetweenPlanes(pt1, pt2, pt3, pt4, pt5, pt6):\n",
    "    n1 = np.cross(pt2 - pt1, pt3 - pt1)\n",
    "    n2 = np.cross(pt5 - pt4, pt6 - pt4)\n",
    "    return np.arccos(np.dot(n1, n2) / (np.linalg.norm(n1) * np.linalg.norm(n2)))\n",
    "\n",
    "def angularEnergy(pt1, pt2, pt3, pt4, pt5, pt6, k_angle, theta0):\n",
    "    theta = angleBetweenPlanes(pt1, pt2, pt3, pt4, pt5, pt6)\n",
    "    return 0.5 * k_angle * (theta - theta0)**2\n",
    "\n",
    "# -------------------------------\n",
    "# Kresling 结构磁能量部分\n",
    "# -------------------------------\n",
    "def KreslingMagnetic(r, R, n, theta_p0, hp0, phi_p, hp):\n",
    "    \"\"\"\n",
    "    返回三元组：(magEnergy, totalMagForce, magTorque)\n",
    "    其中 magEnergy 为磁能量，\n",
    "          totalMagForce 为所有磁力的矢量和，\n",
    "          magTorque 此处暂取零（可根据需要扩展）。\n",
    "    \"\"\"\n",
    "    Kd = 0.8 * 10 **8\n",
    "    M = np.sqrt(2 * Kd / mu0)\n",
    "    V = (10 / 1000) * np.pi * (8/ 100)**2\n",
    "    magm = M * V\n",
    "    # 磁矩方向交错排列，这里只取第一个分量用于计算\n",
    "    mag = [(-1, 1) if i % 2 == 0 else (1, -1) for i in range(n)]\n",
    "    \n",
    "    # 两层点坐标\n",
    "    Points1 = np.array([[R * np.cos(i / n * 2 * np.pi), R * np.sin(i / n * 2 * np.pi), 0] for i in range(n)])\n",
    "    Points2 = np.array([[r * np.cos(i / n * 2 * np.pi + theta_p0 + phi_p),\n",
    "                          r * np.sin(i / n * 2 * np.pi + theta_p0 + phi_p), hp] for i in range(n)])\n",
    "    Points02 = np.array([[r * np.cos(i / n * 2 * np.pi + theta_p0 + phi_p),\n",
    "                          r * np.sin(i / n * 2 * np.pi + theta_p0 + phi_p), hp0] for i in range(n)])\n",
    "    Points = np.vstack([Points1, Points2])\n",
    "    Points0 = np.vstack([Points1, Points02])\n",
    "    \n",
    "    theta01 = angleBetweenPlanes(Points0[1], Points0[2], Points0[n+1], Points0[n+1], Points0[n+2], Points0[2])\n",
    "    theta02 = angleBetweenPlanes(Points0[n+1], Points0[n+2], Points0[2], Points0[2], Points0[3], Points0[n+2])\n",
    "    k_angle=1\n",
    "    angE = n * angularEnergy(Points[1], Points[2], Points[n+1], Points[n+1], Points[n+2], Points[2], k_angle, theta01)\n",
    "    + n * angularEnergy(Points[n+1], Points[n+2], Points[2], Points[2], Points[3], Points[n+2], k_angle, theta02)\n",
    "    \n",
    "    magForce_list = []\n",
    "    magToque_list = []\n",
    "    magEnergy = 0\n",
    "    # 注意：第二层磁矩采用 mag[j - n]\n",
    "    for i in range(n):\n",
    "        for j in range(n, 2 * n):\n",
    "            mi = [0, 0, mag[i][0] * magm]\n",
    "            mj = [0, 0, mag[j - n][0] * magm]\n",
    "            force_ij = Fmag(mi, mj, rij(i, j, Points), mu0)\n",
    "            magForce_list.append(force_ij)\n",
    "            T_ij = Tmag(mi, mj, rij(i, j, Points), mu0)\n",
    "            magToque_list.append(T_ij)\n",
    "            magEnergy += Emag(mi, mj, rij(i, j, Points), mu0)\n",
    "    totalMagForce = np.sum(np.array(magForce_list), axis=0) if magForce_list else np.array([0,0,0])\n",
    "    totalMagToque = np.sum(np.array(magToque_list), axis=0) if magToque_list else np.array([0,0,0])\n",
    "    return magEnergy, totalMagForce, totalMagToque, angE\n",
    "\n",
    "# -------------------------------\n",
    "# 总能量函数（弹簧势能 + 磁能量）\n",
    "# -------------------------------\n",
    "def totalU(hpS1, phiS1, r, R, theta_p0, hp0, n):\n",
    "    kc = 1\n",
    "    springEnergy = n / 2 * (kc * ((c(hpS1, phiS1, r, R, theta_p0) - c(hp0, 0, r, R, theta_p0))**2) +\n",
    "                            kc * ((d(hpS1, phiS1, r, R, theta_p0, n) - d(hp0, 0, r, R, theta_p0, n))**2))\n",
    "    result = KreslingMagnetic(r, R, n, theta_p0, hp0, phiS1, hpS1)\n",
    "    magEnergy, angEnergy = result[0], result[3]\n",
    "\n",
    "    return springEnergy + magEnergy + angEnergy\n",
    "\n",
    "# -------------------------------\n",
    "# 约束条件（共三个约束）\n",
    "# -------------------------------\n",
    "# 约束1：力平衡（取 z 分量），即\n",
    "# Ftotal[hpS1, phiS1, 1, 2, theta_p0, 1, 1, 1, n] + (磁力的 z 分量) = 0\n",
    "def g2(v, r1, R1, r2, R2, theta_p0, hp0, n):\n",
    "    # v = [hpS1, phiS1, hpS2, phiS2]，但在“路径”求解中 hpS1 固定\n",
    "    hpS1, phiS1, hpS2, phiS2 = v\n",
    "    force1 = Ftotal(hpS1 - hpS2, phiS1 - phiS2, r1, R1, theta_p0, hp0, 1, 1, n)\n",
    "    magForce1 = KreslingMagnetic(r1, R1, n, theta_p0, hp0, phiS1 - phiS2, hpS1 - hpS2)[1]\n",
    "    force2 = Ftotal(hpS2, phiS2, r2, R2, theta_p0, hp0, 1, 1, n)\n",
    "    magForce2 = KreslingMagnetic(r2, R2, n, theta_p0, hp0, phiS2, hpS2)[1]\n",
    "    # 取 z 分量（索引 2）\n",
    "    return (force1 + np.array(magForce1))[2] + (force2 + np.array(magForce2))[2]\n",
    "\n",
    "# 约束2：力矩平衡（取 z 分量）\n",
    "def g3(v, r1, R1, r2, R2, theta_p0, hp0, n):\n",
    "    hpS1, phiS1, hpS2, phiS2 = v\n",
    "    torque1 = Ttotal(hpS1 - hpS2, phiS1 - phiS2, r1, R1, theta_p0, hp0, 1, 1, n)\n",
    "    magTorque1 = KreslingMagnetic(r1, R1, n, theta_p0, hp0, phiS1 - phiS2, hpS1 - hpS2)[2]\n",
    "    torque2 = Ttotal(hpS2, phiS2, r2, R2, theta_p0, hp0, 1, 1, n)\n",
    "    magTorque2 = KreslingMagnetic(r2, R2, n, theta_p0, hp0, phiS2, hpS2)[2]\n",
    "    return torque1 + np.array(magTorque1) + torque2 + np.array(magTorque2)\n",
    "\n",
    "# 约束3：能量函数对 hpS1 的偏导数为零\n",
    "def g4(v, r, R, theta_p0, hp0, n):\n",
    "    # 只依赖于 hpS1 和 phiS1（其中 hpS1 在路径中固定）\n",
    "    return d_totalU_d_hpS1(v, r, R, theta_p0, hp0, n)\n",
    "\n",
    "# 中心差分计算 totalU 对 hpS1 的偏导数\n",
    "def d_totalU_d_hpS1(v, r, R, theta_p0, hp0, n, eps=1e-6):\n",
    "    hpS1, phiS1, hpS2, phiS2 = v\n",
    "    return (totalU(hpS1 + eps - hpS2, phiS1 - phiS2, r, R, theta_p0, hp0, n) - \n",
    "            totalU(hpS1 - eps - hpS2, phiS1 - phiS2, r, R, theta_p0, hp0, n)) / (2 * eps)\n",
    "\n",
    "# -------------------------------\n",
    "# 固定 hpS1 下求解其余三个未知数（phiS1, hpS2, phiS2）的方程组\n",
    "# -------------------------------\n",
    "def equations_with_fixed_hpS1(x, hpS1, r1, R1, r2, R2, theta_p0, hp0, n):\n",
    "    # x = [phiS1, hpS2, phiS2]\n",
    "    phiS1, hpS2, phiS2 = x\n",
    "    # 构造完整变量向量 v，其中 hpS1 固定\n",
    "    v = [hpS1, phiS1, hpS2, phiS2]\n",
    "    eq1 = g2(v, r1, R1, r2, R2, theta_p0, hp0, n)\n",
    "    eq2 = g3(v, r1, R1, r2, R2, theta_p0, hp0, n)\n",
    "    eq3 = g4(v, r1, R1, theta_p0, hp0, n)\n",
    "    return [eq1, eq2, eq3]\n",
    "\n",
    "# -------------------------------\n",
    "# 求解与绘图\n",
    "# -------------------------------\n",
    "\n",
    "# 示例参数\n",
    "R1 = 4                # 外径\n",
    "r1 = 2.5                # 内径\n",
    "R2 = 5.5                # 外径\n",
    "r2 = 4                # 内径\n",
    "theta_p0 = np.pi/4   # 示例角度\n",
    "hp0 = 6              # 示例高度\n",
    "n = 6                # 节点数\n",
    "\n",
    "# 先选择一个固定的 hpS1 值（例如 0.5），求解其余变量\n",
    "hpS1_fixed = 12\n",
    "initial_guess_fixed = [0, 6, 0]  # 对应 phiS1, hpS2, phiS2 的初值\n",
    "\n",
    "sol_fixed = fsolve(equations_with_fixed_hpS1, initial_guess_fixed, args=(hpS1_fixed, r1, R1, r2, R2, theta_p0, hp0, n))\n",
    "phiS1_sol, hpS2_sol, phiS2_sol = sol_fixed\n",
    "\n",
    "print(\"对于固定 hpS1 = {:.4f}，求得：\".format(hpS1_fixed))\n",
    "print(\"  phiS1 = {:.4f}\".format(phiS1_sol))\n",
    "print(\"  hpS2  = {:.4f}\".format(hpS2_sol))\n",
    "print(\"  phiS2 = {:.4f}\".format(phiS2_sol))\n",
    "\n",
    "# 计算总能量\n",
    "f_value = totalU(hpS1_fixed - hpS2_sol, phiS1_sol - phiS2_sol, r1, R1, theta_p0, hp0, n) + totalU(hpS2_sol, phiS2_sol, r2, R2, theta_p0, hp0, n)\n",
    "print(\"对于 hpS1 = {:.4f}，总能量 f = {:.4f}\".format(hpS1_fixed, f_value))\n",
    "\n",
    "# -------------------------------\n",
    "# 绘图：沿 hpS1 路径求解 (hpS1 为自由参数)\n",
    "# -------------------------------\n",
    "hpS1_values = np.linspace(9, 13, 400)  # 扫描 hpS1\n",
    "energy_values = []\n",
    "results = []  # 用于保存每个 hpS1 对应的求解结果\n",
    "\n",
    "for hpS1 in hpS1_values:\n",
    "    # 对每个 hpS1，求解其余三个未知数\n",
    "    sol = fsolve(equations_with_fixed_hpS1, initial_guess_fixed, args=(hpS1, r1, R1, r2, R2, theta_p0, hp0, n))\n",
    "    phiS1_sol, hpS2_sol, phiS2_sol = sol\n",
    "    energy = totalU(hpS1 - hpS2_sol, phiS1_sol - phiS2_sol, r1, R1, theta_p0, hp0, n) + totalU(hpS2_sol, phiS2_sol, r2, R2, theta_p0, hp0, n)\n",
    "    # 将 hpS1, phiS1, hpS2, phiS2 以及能量值存储到 results 中\n",
    "    results.append([hpS1, phiS1_sol, hpS2_sol, phiS2_sol, energy])\n",
    "    energy_values.append(energy)\n",
    "    \n",
    "# 转换为 NumPy 数组以便后续查看或处理\n",
    "results = np.array(results)\n",
    "\n",
    "plt.plot(hpS1_values, energy_values, 'b-', linewidth=2)\n",
    "plt.xlabel('hpS1')\n",
    "plt.ylabel('Total Energy f')\n",
    "plt.title('Total Energy vs. hpS1 (路径问题)')\n",
    "plt.grid(True)\n",
    "plt.show()"
   ]
  },
  {
   "cell_type": "code",
   "execution_count": null,
   "metadata": {},
   "outputs": [
    {
     "data": {
      "application/vnd.plotly.v1+json": {
       "config": {
        "plotlyServerURL": "https://plot.ly"
       },
       "data": [
        {
         "line": {
          "color": "blue"
         },
         "mode": "lines",
         "name": "Trajectory",
         "type": "scatter3d",
         "x": {
          "bdata": "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",
          "dtype": "f8"
         },
         "y": {
          "bdata": "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",
          "dtype": "f8"
         },
         "z": {
          "bdata": "JUWw7K7O4T898RrqQcHhP/Xk/qMGs+E/GclpzOOm4T8eNkTBRpvhP7VjyQHIi+E/bq1ff+t94T+hIZ1BiW/hP7bBYQzzZOE/laRxVbVU4T+AlcSdKUfhP/GQoSJtOeE/HE45iX4r4T/6+6T1PR7hP34g+dAAEOE/MZsADPMC4T++JLgJv/XgP+sWJSHB5uA/JdPAc4La4D+pSu9No8zgP+Vyux/dvuA/lBUx6jGx4D9ppS5mRKPgP2n/cjFCluA/nHF/VruI4D9Nrocy/HngP1k1qRd4bOA/O9s8aApf4D/DTzA8PlHgP7+NumSNQ+A/WZi56w424D+v4p/wQCjgP14WQdKDGuA/GV1dMhcN4D8a2ifHkf7fP2FxwrNp4t8/bwbsUmzH3z91DBQIjazfP233XLtIkd8/g9PoHlR13z8qCC+Nv1nfP2x/5ZQvPt8/vxkdeo4j3z8cUp7Q5QffP/VMt+GE7N4/HQI+IqLQ3j9Ov+XKnbXeP0h2LD7Vmd4/YBAwFip+3j+GmMqClWLeP+zssAAx290/tKV+VG533T8ec5HlGCrdP0rY4fJh5tw/haimVWmo3D9ADjZCYm7cP5/XntxJN9w/4zaNfn0C3D8weQkNj8/bP990k+Qvnts/2kzgjiVu2z+taR8wQz/bPz379XxlEds/pHNxHHDk2j++iALkS7jaPy6T6qHljNo/pl+uMC1i2j9P37vqFDjaP5T1LhmRDto/IEuxopfl2T9l5ru9H73ZP7blH8Ahldk/MoLr6ZZt2T8ZCotHeUbZP0cwA5HDH9k/mKwLFXH52D8z28ejfdPYP4UewX7lrdg/4IkIT6WI2D++NDYOumPYPxjfOBAhP9g/vVwA6dca2D8D24du3PbXP4B7vbAs09c/uR5H9cav1z/dG6+xqYzXPxeKgYnTadc/R3F3SUNH1z9+1ZHl9yTXP4LISnbwAtc/t5L9Nizh1j96SdCDqr/WPxs9ZNhqntY/TT24zmx91j9lhZMesFzWP3M3cZs0PNY/HJ9ONvob1j+VheT6APzVP343PRFJ3NU/DsHDvNK81T+5Sb5cnp3VPzuiDW2sftU/gxEShv1f1T9IA/9dkkHVP8SuIslrI9U/PMCku4oF1T8lJ7tK8OfUP6/Wt62dytQ/+1vaQJSt1D+IVzaG1ZDUP7iP+ShjdNQ/fUO0/z5Y1D/LttIPazzUPykmuZDpINQ/yArn77wF1D+D4ZbW5+rTP2cfVSxt0NM/0/a3H1C20z90jIgrlJzTPznTCB89g9M/PT9HJk9q0z/WS37SzlHTPz3apy/BOdM/24BWxysi0z9aXxuqFAvTP28X/JeC9NI/8cfZBH3e0j/+qF45DMnSP40Hk285tNI/SSpI+A6g0j9rXBxomIzSP+Vy/cziedI/LSsK8vxn0j++Z+uw91bSP6MpQVvmRtI/NDZCPN830j8YIrVD/CnSP9t6n+JbHdI/3u+ZMSIS0j9+nY5+egjSP7klWHWZANI/+fksM8D60T/fsT/GQPfRP4n3oA2F9tE/FtBWrBn50T/OUr6CwP/RP2MmKTOSC9I/ehDUKUEe0j+xuqO1szrSP17AyVm8ZtI/Po/qNpCy0j8E35ratn/TP0J+YN5waNM/8CuZuRRR0z+8AyZTMDvTPxIbll6fI9M/4M6V7JwP0z+EKbqmNfvSP5wkaQX959I/vTMuMCzW0j9Ec5teOMbSP9viH6knudI/CoKyFeas0j8aSXtbVqjSP39ti++CqdI/pMW/OjCw0j/9CEOPgvnSP3qQPnI3wdc/Nl2SNQ+f1z9RHg/cNX3XP2ldysCiW9c/oxLb/U061z/a2/hcMBnXPy4zDkpD+NY/P4gMwYDX1j953yxE47bWPzRUw81lltY/uQYfxQN21j+B3T70uFXWP2Hf4H2BNdY/60tE1VkV1j9J6le2PvXVP8yoOB8t1dU/bmoCSCK11T+4waGfG5XVPxOH3cQWddU/xxNzghFV1T97BLfKCTXVPxZLc7T9FNU/zroFduv01D+VJRhk0dTUPzNMO+6ttNQ/kYVtm3+U1D+BdVMJRXTUP7zBlun8U9Q/x+K9/6Uz1D9HOQogPxPUP0HCky3H8tM/xnqrufLTxD8zZYWaKbPCP2q7Wv9shMA/D1wMjxXYvD/KjuWRB0K4P4EBdsk2MLI/ErY4TVtBoD90WmyK1ljEv5Nhxl9KksG/ieobpnvAvb9tvHlgx6y4vyVs0MQHE7S/E4lecZsPsL80bpsnelKpv1LZU3FEqaO/Acp8v6n2nb+bq7e4FjuWv+CTCYELpY+/OpsbdP/5hL8H+ej1pB14v8Q+QvqgS2K/LNLDg6yTSz93YULpNR9sP9f1btSrAXc/ecrA2QWJfj9b86Gz82yCP/cTSFiOD4U/btmN7AM+hz9bxCpfFAeJP3MpffQld4o/Ba4dQLmYiz/OEFxkxHSMP0MkKxD5Eo0/lV72uv55jT9diOq9na+NP1xe5qjkuI0/pcw0akWajT9+TRN+rVeNP0+3lPOY9Iw/CrbI2yN0jD+PLoCkFtmLPyxjFSryJYs/fpGDmvlcij/rczGOOYCJP3zCevyPkYg/JFPZV7GShz8p/0MaLoWGP89bSJ12aoU/9NxbyOBDhD8m6+aDpxKDP/jKjcnx14E/HcSYjdKUgD8LCgUsmZR+P0o6TOul8ns/YMqJbZhFeT9h1YFvJo92P5mqzxry0HM/ckfywosMcT/3Qdde6oZsP3lIMDJJ7mY/IlRQTwhSYT8sYPVi22lXPzHSHA7JZkg/30ZNV7xgED/ScK1KsjFEv2yOVej2I1W/WI8QPfsKYL92taIXunRlv0kmxId7zGq/GaN6tboHcL/tsJlDZZ1yv1Sz2hfDJXW/4J7ZQ0ufd798Yg98Ywh6v9ZgIQFdX3y/TW5rknCifr+6PJMr3WeAv5LofISacoG/YDV5GFpwgr+tnNK87l+Dv782rVoQQIS/fG4QKFcPhb/8OZfQNcyFv7pxeHXydIa/aDS0zJ0Hh7/EQ5AjCIKHv+X9NGOz4Ye/+1CM8sAjiL/jzKcv2kSIv9SpEc8QQYi/QQuyH7QTiL/NpTE4FbeHv5TVI4oxJIe/jKwPpzRShr9e4shgtjWFv29GtxmDv4O/6uMtNojagb+30vFOBtB+v/mXHR97b3i/oo5ilBvXb78yxVm3ckNPv3iYhdACUm8/cgwMoid9jD+YE58BHoaIP+86HeekeoQ/MQmZjUFwgD/knT5ZuRJ5P4eIaf0EKHE/nXdOUTLDYT/K4s+mXvIzP85KreLvmFy/HGBQWk9kbr+M7nHxu7J2vxkggWo/Wn+/Q+Mz1T6pg7/C8X4KU7mHvxe21sNBw4u/r7Dr8Lvtj78iI/RFxuCRvxwL6HKs4JO/QjogYx36lb+ZPXCW2AmYvy9FKIdiF5q//gDEfW4OnL/9frOQWR+ev0cFlTmoDqC/omwnAYMHob/SlJZ0ARKiv/p8Ex1YHKO/i92aCEAhpL9WIH5r/DClvy45n4i/Gqa/ySXyF2Izp7/541GUQDuov3rAKCFrRam/NgWSVA5Hqr+fAe2zhE2rv0bq8L8cRay/67/+1x5Xrb+aXCj0fFOuv9w31WT8Oa+/j93j3WcysL/jpmt0Ar2wv0wZpXlALbG/LwW7kYe5sb+UONTJmUWyv6k9eMLRxrK/1ZCFoHBds791+yoP2cWzv/Q68qeOVbS/Wm9aUAfMtL/I/rvp0l21v+yK2k2u5rW/mu1pD7totr8pXrpJJO+2v7XPCvmhb7e/yxuDZXH+t79w2Xwq7Wq4v0rHugPBAbm/HZH2vH19ub+PEhIgLfm5v4InYyeijrq/3GgS2tYYu7+ntBiisbG7v0blhkUfKby/8VCh2CKqvL8JClOZ0ya9v72rKpsQtL2/3lTxJYcyvr8wZWgDD8G+v8F3XucLSr+/FOEQjejGv78L40ekWRzAvxK55dT1csC/l27+J1iswL/r9/PHKfLAv35p11DsNcG/1JIp4MB7wb/j+8rpA8DBvzTzBbMT/8G/cKZNn/1Fwr8skAxobIHCvyFKRxvfyMK/Yj03xs0Jw78PCv6E6VHDv6I50sNbk8O/7q2vSf3Uw79IwFB54RzEv+wptFYuasS/ECyNku2hxL8pbVG7yO7Ev8l5xVnEK8W/rTI3g5ltxb+VbGoH1rPFvwmUXfw598W/PTr5qoA7xr9uyfomxn3Gv9nInL/vxsa/XB2QMU4Qx78RNlASR0rHvwcR+eHtmce/KOixWCPax78=",
          "dtype": "f8"
         }
        },
        {
         "colorscale": [
          [
           0,
           "#440154"
          ],
          [
           0.1111111111111111,
           "#482878"
          ],
          [
           0.2222222222222222,
           "#3e4989"
          ],
          [
           0.3333333333333333,
           "#31688e"
          ],
          [
           0.4444444444444444,
           "#26828e"
          ],
          [
           0.5555555555555556,
           "#1f9e89"
          ],
          [
           0.6666666666666666,
           "#35b779"
          ],
          [
           0.7777777777777778,
           "#6ece58"
          ],
          [
           0.8888888888888888,
           "#b5de2b"
          ],
          [
           1,
           "#fde725"
          ]
         ],
         "showscale": false,
         "sizemode": "absolute",
         "sizeref": 1,
         "type": "cone",
         "u": {
          "bdata": "D9yGZYDN0r/M7Wc3NhjTv7UGv2cZa9S/xG7V5fgk1b9JdHQFAkvWv63VL9eIn8M/Q2lMNqNDvb9d8zZ1QyDLvwh1FQbWC9K/NIJpC7r41b/o+e3TluXZv+0ZRYsIXN6/XUjSh4wj4r+nGFlNzurmv5BaEtBuD++//C1ucZQp3L82CaAR1Lrrv4TxNy5FQNe/A7cdDvYD2r9YoWI1PhDbv3xUHwOg1Mc/x6Fa3Aib1r9/rwwsPC/ovzCiMnYV3O+/9komXXI477/q5KXvOz7uvxj0sl+RGu6/H9zZ51mo7r8TQ3RRraDvvw38cWMDl++/54o+xOkR5L8NbJ3619riv+i+4a+s3OS/PkILpNtc5L8kwQmgFxvnv5Izn2GSOeW/R2wdSXO+4r+GnnfxNrrgv4Jx9KfT+uW/DNUJDoHh5L8=",
          "dtype": "f8"
         },
         "v": {
          "bdata": "lAqV9yQG7j+OIvtR2/PtPwnOWFoat+0/sITMMOKQ7T+86MUWDlbtP3IfL3Xh2+4/62wVAU747j+C9oelK23uP4MuNdK11e0/Zic4CJMs7T9EIhK2ImDsP+XtFx3/Ses/pTGEJuOD6T8QGnhW65nlP5PVro3jys0/yneIRr/L679gcZuo2dnePwVsbxYY8+w/XGXPOwtc7D+c1tPs+xjsP9C1hv2/D+4/VZjjRCgp7L+F17QRDtTjv9stu319m7a/NpWYPJCjyj9pdqGBENLTP+uImWXOjdQ/wgrTHcFc0T8ItAPu+W/CP4QhmoKERcO/EhMA5GK15z8A5QkAL5HoP+Y1nE6EDuc/c7vVANRv5z9zdOXPbw3lP0OlJn5IueY/jowhi/uO6D/h5MGNXsnpP71C1p73FuY/kpT8WDED5z8=",
          "dtype": "f8"
         },
         "w": {
          "bdata": "2tKzpx1ix7+DRJ6OweXHv8N3WNXvQci/OFRMFT2vyL8s8KfmzwbJv7lmpGZgncu/BUcr2EWzzL9lGNFPXenMvylSFd5N+cy/GNYG+SjlzL8wecJp2JzMv10yv09u98u/cJ/fhiCFyr8BEyZ8krHGv0z7O6TFH6+/w3S4TG8mzT8zDEVKBIzAv4pL8Ow1gMy/yBhMA2dvzL+gG9IttK7Mv76QvDMqa9K/SqaNTrhR1D/KFciZDR3LPwLMf6XMkp8/JRD2JbHCsb/H78pX3rO6v90GYsyd4bu/FvNCL0Kpt7+DJp33+gWpv1UOE8HHFqs/Ko5DDD7Azr+vn7QGUB7Qvx+LQ1szPs6/MrBa0ckAz7/Yk9bauGXLvzm5SHcoPM6/a0qKprOt0L/VxWQ60c3Rvz3P1OYhGs2/Gwg3DWqSzr8=",
          "dtype": "f8"
         },
         "x": {
          "bdata": "VKFVsdn28T+ASaLx9InxP93bGCUUGfE/N+rGfyGk8D/KxuxgKivwP2xKatlCue8/7x5WLLLM7z9BsuWrJjLvPxzW7aYKZO4/8eeQqJ507T/vrIWTU2rsP8n+R/j2Rus/td8GHbYI6j8SdxagEKjoP/z4tv5TDec/c3+OkMOV5D/wILMyzXniP1YimIUR5tg//0xx35Gv1j+RkTEnQ1rUP8uxDJsL1+A/DbkdI9UH5D+at8KEvZngP/MDspmputw/uLQJLQDR2D8UfJJd6BDVP1Q9YQ+LU9E/A0lzuJ4Byz+ZsyS//f3CP1soGUaXbbQ/qLFAJjkZlr/XDgZg0I6yv0O1HctFt7+/aKDhRgqZxr/x7WKSZ3LNv9CZskNsN9K/ZjQ1FjDH1b9HbHyzmXHZvyttag/cHt2/aLMRYSR04L8=",
          "dtype": "f8"
         },
         "y": {
          "bdata": "/D50kxnpDkDL3ihiNpUPQKdiS7AnHxBAoFdRLhxyEECWjwOPecMQQC2QJEJuMRFAhWwo/U7cEUDX9bwi0U8SQDZNjp1WsxJAQxO576EME0DMesUhpV0TQHhdafjMphNAD1AstEvnE0A4EkfwWxwUQEDhMdGgPRRAl2VBG+YTFECYuyEUyA4UQLFXh6gR8BJAqCSYMz9CE0BJitFuhpETQOZ8KS1bXxZAR9X2OveyGEAvMQgkhPIXQBDasgE/0hdARHrIl3LWF0BrZfF79uYXQIlwNshU+xdA0VJv4fIOGED3OXBSmx0YQBPPmoe7HxhANIdN84XUF0C4i5B8vhEYQAz+H+r+TxhA3t4sFJuNGEBCYyYMo8sYQINaSqPICRlAabZ0QTJIGUAL5WUX7IUZQO1rt38TxhlA/f+fftgFGkA=",
          "dtype": "f8"
         },
         "z": {
          "bdata": "JUWw7K7O4T+AlcSdKUfhP+Vyux/dvuA/WZi56w424D8qCC+Nv1nfP+zssAAx290/2kzgjiVu2z9l5ru9H73ZPxjfOBAhP9g/t5L9Nizh1j+5Sb5cnp3VP7iP+ShjdNQ/PT9HJk9q0z9rXBxomIzSP7klWHWZANI/Po/qNpCy0j9Ec5teOMbSP2ldysCiW9c/60tE1VkV1j+VJRhk0dTUP2q7Wv9shMA/E4lecZsPsL93YULpNR9sP0MkKxD5Eo0/fpGDmvlcij8LCgUsmZR+PzHSHA7JZkg/4J7ZQ0ufd7/8OZfQNcyFv5TVI4oxJIe/cgwMoid9jD+M7nHxu7J2vy9FKIdiF5q/ySXyF2Izp7/jpmt0Ar2wv+yK2k2u5rW/3GgS2tYYu78L40ekWRzAvyFKRxvfyMK/rTI3g5ltxb8=",
          "dtype": "f8"
         }
        }
       ],
       "layout": {
        "scene": {
         "xaxis": {
          "range": [
           -0.5681358977162639,
           1.1227662016991262
          ]
         },
         "yaxis": {
          "range": [
           3.863818313584373,
           6.562918493606101
          ]
         },
         "zaxis": {
          "range": [
           -0.18634454565818825,
           0.5564798949073163
          ]
         }
        },
        "template": {
         "data": {
          "bar": [
           {
            "error_x": {
             "color": "#2a3f5f"
            },
            "error_y": {
             "color": "#2a3f5f"
            },
            "marker": {
             "line": {
              "color": "#E5ECF6",
              "width": 0.5
             },
             "pattern": {
              "fillmode": "overlay",
              "size": 10,
              "solidity": 0.2
             }
            },
            "type": "bar"
           }
          ],
          "barpolar": [
           {
            "marker": {
             "line": {
              "color": "#E5ECF6",
              "width": 0.5
             },
             "pattern": {
              "fillmode": "overlay",
              "size": 10,
              "solidity": 0.2
             }
            },
            "type": "barpolar"
           }
          ],
          "carpet": [
           {
            "aaxis": {
             "endlinecolor": "#2a3f5f",
             "gridcolor": "white",
             "linecolor": "white",
             "minorgridcolor": "white",
             "startlinecolor": "#2a3f5f"
            },
            "baxis": {
             "endlinecolor": "#2a3f5f",
             "gridcolor": "white",
             "linecolor": "white",
             "minorgridcolor": "white",
             "startlinecolor": "#2a3f5f"
            },
            "type": "carpet"
           }
          ],
          "choropleth": [
           {
            "colorbar": {
             "outlinewidth": 0,
             "ticks": ""
            },
            "type": "choropleth"
           }
          ],
          "contour": [
           {
            "colorbar": {
             "outlinewidth": 0,
             "ticks": ""
            },
            "colorscale": [
             [
              0,
              "#0d0887"
             ],
             [
              0.1111111111111111,
              "#46039f"
             ],
             [
              0.2222222222222222,
              "#7201a8"
             ],
             [
              0.3333333333333333,
              "#9c179e"
             ],
             [
              0.4444444444444444,
              "#bd3786"
             ],
             [
              0.5555555555555556,
              "#d8576b"
             ],
             [
              0.6666666666666666,
              "#ed7953"
             ],
             [
              0.7777777777777778,
              "#fb9f3a"
             ],
             [
              0.8888888888888888,
              "#fdca26"
             ],
             [
              1,
              "#f0f921"
             ]
            ],
            "type": "contour"
           }
          ],
          "contourcarpet": [
           {
            "colorbar": {
             "outlinewidth": 0,
             "ticks": ""
            },
            "type": "contourcarpet"
           }
          ],
          "heatmap": [
           {
            "colorbar": {
             "outlinewidth": 0,
             "ticks": ""
            },
            "colorscale": [
             [
              0,
              "#0d0887"
             ],
             [
              0.1111111111111111,
              "#46039f"
             ],
             [
              0.2222222222222222,
              "#7201a8"
             ],
             [
              0.3333333333333333,
              "#9c179e"
             ],
             [
              0.4444444444444444,
              "#bd3786"
             ],
             [
              0.5555555555555556,
              "#d8576b"
             ],
             [
              0.6666666666666666,
              "#ed7953"
             ],
             [
              0.7777777777777778,
              "#fb9f3a"
             ],
             [
              0.8888888888888888,
              "#fdca26"
             ],
             [
              1,
              "#f0f921"
             ]
            ],
            "type": "heatmap"
           }
          ],
          "histogram": [
           {
            "marker": {
             "pattern": {
              "fillmode": "overlay",
              "size": 10,
              "solidity": 0.2
             }
            },
            "type": "histogram"
           }
          ],
          "histogram2d": [
           {
            "colorbar": {
             "outlinewidth": 0,
             "ticks": ""
            },
            "colorscale": [
             [
              0,
              "#0d0887"
             ],
             [
              0.1111111111111111,
              "#46039f"
             ],
             [
              0.2222222222222222,
              "#7201a8"
             ],
             [
              0.3333333333333333,
              "#9c179e"
             ],
             [
              0.4444444444444444,
              "#bd3786"
             ],
             [
              0.5555555555555556,
              "#d8576b"
             ],
             [
              0.6666666666666666,
              "#ed7953"
             ],
             [
              0.7777777777777778,
              "#fb9f3a"
             ],
             [
              0.8888888888888888,
              "#fdca26"
             ],
             [
              1,
              "#f0f921"
             ]
            ],
            "type": "histogram2d"
           }
          ],
          "histogram2dcontour": [
           {
            "colorbar": {
             "outlinewidth": 0,
             "ticks": ""
            },
            "colorscale": [
             [
              0,
              "#0d0887"
             ],
             [
              0.1111111111111111,
              "#46039f"
             ],
             [
              0.2222222222222222,
              "#7201a8"
             ],
             [
              0.3333333333333333,
              "#9c179e"
             ],
             [
              0.4444444444444444,
              "#bd3786"
             ],
             [
              0.5555555555555556,
              "#d8576b"
             ],
             [
              0.6666666666666666,
              "#ed7953"
             ],
             [
              0.7777777777777778,
              "#fb9f3a"
             ],
             [
              0.8888888888888888,
              "#fdca26"
             ],
             [
              1,
              "#f0f921"
             ]
            ],
            "type": "histogram2dcontour"
           }
          ],
          "mesh3d": [
           {
            "colorbar": {
             "outlinewidth": 0,
             "ticks": ""
            },
            "type": "mesh3d"
           }
          ],
          "parcoords": [
           {
            "line": {
             "colorbar": {
              "outlinewidth": 0,
              "ticks": ""
             }
            },
            "type": "parcoords"
           }
          ],
          "pie": [
           {
            "automargin": true,
            "type": "pie"
           }
          ],
          "scatter": [
           {
            "fillpattern": {
             "fillmode": "overlay",
             "size": 10,
             "solidity": 0.2
            },
            "type": "scatter"
           }
          ],
          "scatter3d": [
           {
            "line": {
             "colorbar": {
              "outlinewidth": 0,
              "ticks": ""
             }
            },
            "marker": {
             "colorbar": {
              "outlinewidth": 0,
              "ticks": ""
             }
            },
            "type": "scatter3d"
           }
          ],
          "scattercarpet": [
           {
            "marker": {
             "colorbar": {
              "outlinewidth": 0,
              "ticks": ""
             }
            },
            "type": "scattercarpet"
           }
          ],
          "scattergeo": [
           {
            "marker": {
             "colorbar": {
              "outlinewidth": 0,
              "ticks": ""
             }
            },
            "type": "scattergeo"
           }
          ],
          "scattergl": [
           {
            "marker": {
             "colorbar": {
              "outlinewidth": 0,
              "ticks": ""
             }
            },
            "type": "scattergl"
           }
          ],
          "scattermap": [
           {
            "marker": {
             "colorbar": {
              "outlinewidth": 0,
              "ticks": ""
             }
            },
            "type": "scattermap"
           }
          ],
          "scattermapbox": [
           {
            "marker": {
             "colorbar": {
              "outlinewidth": 0,
              "ticks": ""
             }
            },
            "type": "scattermapbox"
           }
          ],
          "scatterpolar": [
           {
            "marker": {
             "colorbar": {
              "outlinewidth": 0,
              "ticks": ""
             }
            },
            "type": "scatterpolar"
           }
          ],
          "scatterpolargl": [
           {
            "marker": {
             "colorbar": {
              "outlinewidth": 0,
              "ticks": ""
             }
            },
            "type": "scatterpolargl"
           }
          ],
          "scatterternary": [
           {
            "marker": {
             "colorbar": {
              "outlinewidth": 0,
              "ticks": ""
             }
            },
            "type": "scatterternary"
           }
          ],
          "surface": [
           {
            "colorbar": {
             "outlinewidth": 0,
             "ticks": ""
            },
            "colorscale": [
             [
              0,
              "#0d0887"
             ],
             [
              0.1111111111111111,
              "#46039f"
             ],
             [
              0.2222222222222222,
              "#7201a8"
             ],
             [
              0.3333333333333333,
              "#9c179e"
             ],
             [
              0.4444444444444444,
              "#bd3786"
             ],
             [
              0.5555555555555556,
              "#d8576b"
             ],
             [
              0.6666666666666666,
              "#ed7953"
             ],
             [
              0.7777777777777778,
              "#fb9f3a"
             ],
             [
              0.8888888888888888,
              "#fdca26"
             ],
             [
              1,
              "#f0f921"
             ]
            ],
            "type": "surface"
           }
          ],
          "table": [
           {
            "cells": {
             "fill": {
              "color": "#EBF0F8"
             },
             "line": {
              "color": "white"
             }
            },
            "header": {
             "fill": {
              "color": "#C8D4E3"
             },
             "line": {
              "color": "white"
             }
            },
            "type": "table"
           }
          ]
         },
         "layout": {
          "annotationdefaults": {
           "arrowcolor": "#2a3f5f",
           "arrowhead": 0,
           "arrowwidth": 1
          },
          "autotypenumbers": "strict",
          "coloraxis": {
           "colorbar": {
            "outlinewidth": 0,
            "ticks": ""
           }
          },
          "colorscale": {
           "diverging": [
            [
             0,
             "#8e0152"
            ],
            [
             0.1,
             "#c51b7d"
            ],
            [
             0.2,
             "#de77ae"
            ],
            [
             0.3,
             "#f1b6da"
            ],
            [
             0.4,
             "#fde0ef"
            ],
            [
             0.5,
             "#f7f7f7"
            ],
            [
             0.6,
             "#e6f5d0"
            ],
            [
             0.7,
             "#b8e186"
            ],
            [
             0.8,
             "#7fbc41"
            ],
            [
             0.9,
             "#4d9221"
            ],
            [
             1,
             "#276419"
            ]
           ],
           "sequential": [
            [
             0,
             "#0d0887"
            ],
            [
             0.1111111111111111,
             "#46039f"
            ],
            [
             0.2222222222222222,
             "#7201a8"
            ],
            [
             0.3333333333333333,
             "#9c179e"
            ],
            [
             0.4444444444444444,
             "#bd3786"
            ],
            [
             0.5555555555555556,
             "#d8576b"
            ],
            [
             0.6666666666666666,
             "#ed7953"
            ],
            [
             0.7777777777777778,
             "#fb9f3a"
            ],
            [
             0.8888888888888888,
             "#fdca26"
            ],
            [
             1,
             "#f0f921"
            ]
           ],
           "sequentialminus": [
            [
             0,
             "#0d0887"
            ],
            [
             0.1111111111111111,
             "#46039f"
            ],
            [
             0.2222222222222222,
             "#7201a8"
            ],
            [
             0.3333333333333333,
             "#9c179e"
            ],
            [
             0.4444444444444444,
             "#bd3786"
            ],
            [
             0.5555555555555556,
             "#d8576b"
            ],
            [
             0.6666666666666666,
             "#ed7953"
            ],
            [
             0.7777777777777778,
             "#fb9f3a"
            ],
            [
             0.8888888888888888,
             "#fdca26"
            ],
            [
             1,
             "#f0f921"
            ]
           ]
          },
          "colorway": [
           "#636efa",
           "#EF553B",
           "#00cc96",
           "#ab63fa",
           "#FFA15A",
           "#19d3f3",
           "#FF6692",
           "#B6E880",
           "#FF97FF",
           "#FECB52"
          ],
          "font": {
           "color": "#2a3f5f"
          },
          "geo": {
           "bgcolor": "white",
           "lakecolor": "white",
           "landcolor": "#E5ECF6",
           "showlakes": true,
           "showland": true,
           "subunitcolor": "white"
          },
          "hoverlabel": {
           "align": "left"
          },
          "hovermode": "closest",
          "mapbox": {
           "style": "light"
          },
          "paper_bgcolor": "white",
          "plot_bgcolor": "#E5ECF6",
          "polar": {
           "angularaxis": {
            "gridcolor": "white",
            "linecolor": "white",
            "ticks": ""
           },
           "bgcolor": "#E5ECF6",
           "radialaxis": {
            "gridcolor": "white",
            "linecolor": "white",
            "ticks": ""
           }
          },
          "scene": {
           "xaxis": {
            "backgroundcolor": "#E5ECF6",
            "gridcolor": "white",
            "gridwidth": 2,
            "linecolor": "white",
            "showbackground": true,
            "ticks": "",
            "zerolinecolor": "white"
           },
           "yaxis": {
            "backgroundcolor": "#E5ECF6",
            "gridcolor": "white",
            "gridwidth": 2,
            "linecolor": "white",
            "showbackground": true,
            "ticks": "",
            "zerolinecolor": "white"
           },
           "zaxis": {
            "backgroundcolor": "#E5ECF6",
            "gridcolor": "white",
            "gridwidth": 2,
            "linecolor": "white",
            "showbackground": true,
            "ticks": "",
            "zerolinecolor": "white"
           }
          },
          "shapedefaults": {
           "line": {
            "color": "#2a3f5f"
           }
          },
          "ternary": {
           "aaxis": {
            "gridcolor": "white",
            "linecolor": "white",
            "ticks": ""
           },
           "baxis": {
            "gridcolor": "white",
            "linecolor": "white",
            "ticks": ""
           },
           "bgcolor": "#E5ECF6",
           "caxis": {
            "gridcolor": "white",
            "linecolor": "white",
            "ticks": ""
           }
          },
          "title": {
           "x": 0.05
          },
          "xaxis": {
           "automargin": true,
           "gridcolor": "white",
           "linecolor": "white",
           "ticks": "",
           "title": {
            "standoff": 15
           },
           "zerolinecolor": "white",
           "zerolinewidth": 2
          },
          "yaxis": {
           "automargin": true,
           "gridcolor": "white",
           "linecolor": "white",
           "ticks": "",
           "title": {
            "standoff": 15
           },
           "zerolinecolor": "white",
           "zerolinewidth": 2
          }
         }
        }
       }
      }
     },
     "metadata": {},
     "output_type": "display_data"
    }
   ],
   "source": [
    "# %%\n",
    "import numpy as np\n",
    "import plotly.graph_objects as go\n",
    "# 提取数据\n",
    "x = results[:, 1]  # 第二列\n",
    "y = results[:, 2]  # 第三列\n",
    "z = results[:, 3]  # 第四列\n",
    "t = results[:, 0]  # 第一列作为变化方向\n",
    "\n",
    "# 计算切向量\n",
    "dx = np.diff(x)\n",
    "dy = np.diff(y)\n",
    "dz = np.diff(z)\n",
    "\n",
    "# 选择箭头的间隔，假设我们每隔10个点添加一个箭头\n",
    "arrow_interval = 10\n",
    "\n",
    "# 创建箭头数据\n",
    "arrow_x = x[:-1:arrow_interval]\n",
    "arrow_y = y[:-1:arrow_interval]\n",
    "arrow_z = z[:-1:arrow_interval]\n",
    "arrow_dx = dx[::arrow_interval]\n",
    "arrow_dy = dy[::arrow_interval]\n",
    "arrow_dz = dz[::arrow_interval]\n",
    "\n",
    "# 归一化方向向量\n",
    "magnitude = np.sqrt(arrow_dx**2 + arrow_dy**2 + arrow_dz**2)\n",
    "arrow_dx /= magnitude\n",
    "arrow_dy /= magnitude\n",
    "arrow_dz /= magnitude\n",
    "\n",
    "\n",
    "# 创建3D图形\n",
    "fig = go.Figure()\n",
    "\n",
    "# 绘制三维轨迹\n",
    "fig.add_trace(go.Scatter3d(x=x, y=y, z=z, mode='lines', name='Trajectory', line=dict(color='blue')))\n",
    "\n",
    "fig.add_trace(go.Cone(x=arrow_x, y=arrow_y, z=arrow_z, u=arrow_dx, v=arrow_dy, w=arrow_dz, \n",
    "                     colorscale='Viridis', showscale=False, sizemode=\"absolute\", sizeref=1))\n",
    "\n",
    "\n",
    "x_min, x_max = np.min(x), np.max(x)\n",
    "y_min, y_max = np.min(y), np.max(y)\n",
    "z_min, z_max = np.min(z), np.max(z)\n",
    "\n",
    "fig.update_layout(\n",
    "    scene=dict(\n",
    "        xaxis=dict(range=[x_min, x_max]),\n",
    "        yaxis=dict(range=[y_min, y_max]),\n",
    "        zaxis=dict(range=[z_min, z_max]),\n",
    "    ),\n",
    ")\n",
    "\n",
    "\n",
    "# 显示图像\n",
    "fig.show()\n"
   ]
  },
  {
   "cell_type": "code",
   "execution_count": null,
   "id": "45023944-93ea-47b1-8181-1351bd20d8ca",
   "metadata": {},
   "outputs": [
    {
     "name": "stdout",
     "output_type": "stream",
     "text": [
      "对于固定 hpS1 = 12.0000，求得：\n",
      "  phiS1 = -0.0015\n",
      "  hpS2  = 5.8794\n",
      "  phiS2 = 0.0547\n",
      "对于 hpS1 = 12.0000，总能量 f = 0.1087\n"
     ]
    },
    {
     "name": "stderr",
     "output_type": "stream",
     "text": [
      "<ipython-input-4-2c95f6734913>:245: RuntimeWarning:\n",
      "\n",
      "The iteration is not making good progress, as measured by the \n",
      "  improvement from the last ten iterations.\n",
      "\n",
      "<ipython-input-4-2c95f6734913>:245: RuntimeWarning:\n",
      "\n",
      "The iteration is not making good progress, as measured by the \n",
      "  improvement from the last five Jacobian evaluations.\n",
      "\n",
      "c:\\Users\\Lenovo\\.conda\\envs\\tensorflow_gpu\\lib\\site-packages\\IPython\\core\\pylabtools.py:152: UserWarning:\n",
      "\n",
      "Glyph 36335 (\\N{CJK UNIFIED IDEOGRAPH-8DEF}) missing from current font.\n",
      "\n",
      "c:\\Users\\Lenovo\\.conda\\envs\\tensorflow_gpu\\lib\\site-packages\\IPython\\core\\pylabtools.py:152: UserWarning:\n",
      "\n",
      "Glyph 24452 (\\N{CJK UNIFIED IDEOGRAPH-5F84}) missing from current font.\n",
      "\n",
      "c:\\Users\\Lenovo\\.conda\\envs\\tensorflow_gpu\\lib\\site-packages\\IPython\\core\\pylabtools.py:152: UserWarning:\n",
      "\n",
      "Glyph 38382 (\\N{CJK UNIFIED IDEOGRAPH-95EE}) missing from current font.\n",
      "\n",
      "c:\\Users\\Lenovo\\.conda\\envs\\tensorflow_gpu\\lib\\site-packages\\IPython\\core\\pylabtools.py:152: UserWarning:\n",
      "\n",
      "Glyph 39064 (\\N{CJK UNIFIED IDEOGRAPH-9898}) missing from current font.\n",
      "\n"
     ]
    },
    {
     "data": {
      "image/png": "[encoded data removed]",
      "text/plain": [
       "<Figure size 640x480 with 1 Axes>"
      ]
     },
     "metadata": {},
     "output_type": "display_data"
    }
   ],
   "source": [
    "import numpy as np\n",
    "from scipy.optimize import fsolve\n",
    "import matplotlib.pyplot as plt\n",
    "\n",
    "# -------------------------------\n",
    "# 常数与基本函数\n",
    "# -------------------------------\n",
    "miu0 = 4 * np.pi * 10**-7\n",
    "mu0 = 4 * np.pi * 10**-7\n",
    "\n",
    "# 计算矢量差\n",
    "def rij(i, j, pts):\n",
    "    return pts[j] - pts[i]\n",
    "\n",
    "# 磁力计算\n",
    "def Fmag(mi, mj, rijVec, miu0):\n",
    "    mi = np.array(mi)\n",
    "    mj = np.array(mj)\n",
    "    rijVec = np.array(rijVec)\n",
    "    norm_rij = np.linalg.norm(rijVec)\n",
    "    dot_mi_rij = np.dot(mi, rijVec)\n",
    "    dot_mj_rij = np.dot(mj, rijVec)\n",
    "    dot_mi_mj = np.dot(mi, mj)\n",
    "    term1 = dot_mi_rij * mj + dot_mj_rij * mi + dot_mi_mj * rijVec\n",
    "    term2 = 5 * (dot_mi_rij * dot_mj_rij / norm_rij**2) * rijVec\n",
    "    return -3 * miu0 / (4 * np.pi * norm_rij**5) * (term1 - term2)\n",
    "\n",
    "def Tmag(mi, mj, rij, u0):\n",
    "    norm_rij = np.linalg.norm(rij)\n",
    "    #rij_normed = rij / norm_rij  # Unit vector in the direction of rij\n",
    "\n",
    "    # Calculate the components\n",
    "    term_1 = (np.dot(mi, rij) * mj[0] + np.dot(mj, rij) * mi[0] +\n",
    "              np.dot(mi, mj) * rij[0] - 5 * (np.dot(mi, rij) * np.dot(mj, rij) / norm_rij**2) * rij[0])\n",
    "\n",
    "    term_2 = (np.dot(mi, rij) * mj[1] + np.dot(mj, rij) * mi[1] +\n",
    "              np.dot(mi, mj) * rij[1] - 5 * (np.dot(mi, rij) * np.dot(mj, rij) / norm_rij**2) * rij[1])\n",
    "\n",
    "    result = -3 * u0 / (4 * np.pi * norm_rij**5) * (term_1 + term_2)\n",
    "    return result\n",
    "\n",
    "\n",
    "# 磁能量计算\n",
    "def Emag(mi, mj, rijVec, miu0):\n",
    "    norm_rij = np.linalg.norm(rijVec)\n",
    "    dot_mi_mi = np.dot(mi, mi)\n",
    "    dot_mi_rij = np.dot(mi, rijVec)\n",
    "    dot_mj_rij = np.dot(mj, rijVec)\n",
    "    return miu0 / (4 * np.pi) * (dot_mi_mi / norm_rij**3 - 3 * (dot_mi_rij * dot_mj_rij) / norm_rij**5)\n",
    "\n",
    "# 弹簧几何量\n",
    "def c(hs, phi, r, R, theta_p0):\n",
    "    return np.sqrt(hs**2 + r**2 + R**2 - 2 * R * r * np.cos(theta_p0 + phi))\n",
    "\n",
    "def d(hs, phi, r, R, theta_p0, n):\n",
    "    return np.sqrt(hs**2 + r**2 + R**2 - 2 * R * r * np.cos(theta_p0 + phi + 2 * np.pi / n))\n",
    "\n",
    "# 弹簧力\n",
    "def Fcc(hs, phi, r, R, theta_p0, hp0, kc):\n",
    "    return kc * (c(hs, phi, r, R, theta_p0) - c(hp0, 0, r, R, theta_p0))\n",
    "\n",
    "def Fdd(hs, phi, r, R, theta_p0, hp0, kd, n):\n",
    "    return kd * (d(hs, phi, r, R, theta_p0, n) - d(hp0, 0, r, R, theta_p0, n))\n",
    "\n",
    "# 力和力矩的角度量\n",
    "def Ac(hs, phi, r, R, theta_p0):\n",
    "    return np.arctan(np.sqrt(R**2 + r**2 - 2 * R * r * np.cos(theta_p0 + phi)) / hs)\n",
    "\n",
    "def Ad(hs, phi, r,  R,theta_p0, n):\n",
    "    return np.arctan(np.sqrt(R**2 + r**2 - 2 * R * r * np.cos(theta_p0 + phi + (2*np.pi)/n)) / hs)\n",
    "\n",
    "# Zeta 函数\n",
    "def zeta(x, r, R):\n",
    "    return np.sin(x) / np.sqrt(R**2 + r**2 - 2 * R * r * np.cos(x))\n",
    "\n",
    "# 总力函数（参数顺序：hs, phi, r, R, theta_p0, hp0, kc, kd, n）\n",
    "def Ftotal(hs, phi, r, R, theta_p0, hp0, kc, kd, n):\n",
    "    return n * (Fcc(hs, phi, r, R, theta_p0, hp0, kc) * np.cos(Ac(hs, phi, r,  R,theta_p0)) +\n",
    "                Fdd(hs, phi, r, R, theta_p0, hp0, kd, n) * np.cos(Ad(hs, phi, r, R, theta_p0, n)))\n",
    "\n",
    "# 总力矩函数（返回标量，实际取的是 z 分量）\n",
    "def Ttotal(hs, phi, r, R, theta_p0, hp0, kc, kd, n):\n",
    "    return n * R * r * (Fcc(hs, phi, r, R, theta_p0, hp0, kc) * np.sin(Ac(hs, phi, r, R, theta_p0)) *\n",
    "                        zeta(theta_p0 + phi, r, R) +\n",
    "                        Fdd(hs, phi, r, R, theta_p0, hp0, kd, n) * np.sin(Ad(hs, phi, r, R, theta_p0, n)) *\n",
    "                        zeta(theta_p0 + phi + (2*np.pi)/n, r, R))\n",
    "\n",
    "# 计算平面之间的夹角（暂未在后续使用）\n",
    "def angleBetweenPlanes(pt1, pt2, pt3, pt4, pt5, pt6):\n",
    "    n1 = np.cross(pt2 - pt1, pt3 - pt1)\n",
    "    n2 = np.cross(pt5 - pt4, pt6 - pt4)\n",
    "    return np.arccos(np.dot(n1, n2) / (np.linalg.norm(n1) * np.linalg.norm(n2)))\n",
    "\n",
    "def angularEnergy(pt1, pt2, pt3, pt4, pt5, pt6, k_angle, theta0):\n",
    "    theta = angleBetweenPlanes(pt1, pt2, pt3, pt4, pt5, pt6)\n",
    "    return 0.5 * k_angle * (theta - theta0)**2\n",
    "\n",
    "# -------------------------------\n",
    "# Kresling 结构磁能量部分\n",
    "# -------------------------------\n",
    "def KreslingMagnetic(r, R, n, theta_p0, hp0, phi_p, hp):\n",
    "    \"\"\"\n",
    "    返回三元组：(magEnergy, totalMagForce, magTorque)\n",
    "    其中 magEnergy 为磁能量，\n",
    "          totalMagForce 为所有磁力的矢量和，\n",
    "          magTorque 此处暂取零（可根据需要扩展）。\n",
    "    \"\"\"\n",
    "    Kd = 0.8 * 10 **8\n",
    "    M = np.sqrt(2 * Kd / mu0)\n",
    "    V = (10 / 1000) * np.pi * (8/ 100)**2\n",
    "    magm = M * V\n",
    "    # 磁矩方向交错排列，这里只取第一个分量用于计算\n",
    "    mag = [(-1, 1) if i % 2 == 0 else (1, -1) for i in range(n)]\n",
    "    \n",
    "    # 两层点坐标\n",
    "    Points1 = np.array([[R * np.cos(i / n * 2 * np.pi), R * np.sin(i / n * 2 * np.pi), 0] for i in range(n)])\n",
    "    Points2 = np.array([[r * np.cos(i / n * 2 * np.pi + theta_p0 + phi_p),\n",
    "                          r * np.sin(i / n * 2 * np.pi + theta_p0 + phi_p), hp] for i in range(n)])\n",
    "    Points02 = np.array([[r * np.cos(i / n * 2 * np.pi + theta_p0 + phi_p),\n",
    "                          r * np.sin(i / n * 2 * np.pi + theta_p0 + phi_p), hp0] for i in range(n)])\n",
    "    Points = np.vstack([Points1, Points2])\n",
    "    Points0 = np.vstack([Points1, Points02])\n",
    "    \n",
    "    theta01 = angleBetweenPlanes(Points0[1], Points0[2], Points0[n+1], Points0[n+1], Points0[n+2], Points0[2])\n",
    "    theta02 = angleBetweenPlanes(Points0[n+1], Points0[n+2], Points0[2], Points0[2], Points0[3], Points0[n+2])\n",
    "    k_angle=1\n",
    "    angE = n * angularEnergy(Points[1], Points[2], Points[n+1], Points[n+1], Points[n+2], Points[2], k_angle, theta01)\n",
    "    + n * angularEnergy(Points[n+1], Points[n+2], Points[2], Points[2], Points[3], Points[n+2], k_angle, theta02)\n",
    "    \n",
    "    magForce_list = []\n",
    "    magToque_list = []\n",
    "    magEnergy = 0\n",
    "    # 注意：第二层磁矩采用 mag[j - n]\n",
    "    for i in range(n):\n",
    "        for j in range(n, 2 * n):\n",
    "            mi = [0, 0, mag[i][0] * magm]\n",
    "            mj = [0, 0, mag[j - n][0] * magm]\n",
    "            force_ij = Fmag(mi, mj, rij(i, j, Points), mu0)\n",
    "            magForce_list.append(force_ij)\n",
    "            T_ij = Tmag(mi, mj, rij(i, j, Points), mu0)\n",
    "            magToque_list.append(T_ij)\n",
    "            magEnergy += Emag(mi, mj, rij(i, j, Points), mu0)\n",
    "    totalMagForce = np.sum(np.array(magForce_list), axis=0) if magForce_list else np.array([0,0,0])\n",
    "    totalMagToque = np.sum(np.array(magToque_list), axis=0) if magToque_list else np.array([0,0,0])\n",
    "    return magEnergy, totalMagForce, totalMagToque, angE\n",
    "\n",
    "# -------------------------------\n",
    "# 总能量函数（弹簧势能 + 磁能量）\n",
    "# -------------------------------\n",
    "def totalU(hpS1, phiS1, r, R, theta_p0, hp0, n):\n",
    "    kc = 1\n",
    "    springEnergy = n / 2 * (kc * ((c(hpS1, phiS1, r, R, theta_p0) - c(hp0, 0, r, R, theta_p0))**2) +\n",
    "                            kc * ((d(hpS1, phiS1, r, R, theta_p0, n) - d(hp0, 0, r, R, theta_p0, n))**2))\n",
    "    result = KreslingMagnetic(r, R, n, theta_p0, hp0, phiS1, hpS1)\n",
    "    magEnergy, angEnergy = result[0], result[3]\n",
    "\n",
    "    return springEnergy + magEnergy + angEnergy\n",
    "\n",
    "# -------------------------------\n",
    "# 约束条件（共三个约束）\n",
    "# -------------------------------\n",
    "# 约束1：力平衡（取 z 分量），即\n",
    "# Ftotal[hpS1, phiS1, 1, 2, theta_p0, 1, 1, 1, n] + (磁力的 z 分量) = 0\n",
    "def g2(v, r1, R1, r2, R2, theta_p0, hp0, n):\n",
    "    # v = [hpS1, phiS1, hpS2, phiS2]，但在“路径”求解中 hpS1 固定\n",
    "    hpS1, phiS1, hpS2, phiS2 = v\n",
    "    force1 = Ftotal(hpS1 - hpS2, phiS1 - phiS2, r1, R1, theta_p0, hp0, 1, 1, n)\n",
    "    magForce1 = KreslingMagnetic(r1, R1, n, theta_p0, hp0, phiS1 - phiS2, hpS1 - hpS2)[1]\n",
    "    force2 = Ftotal(hpS2, phiS2, r2, R2, theta_p0, hp0, 1, 1, n)\n",
    "    magForce2 = KreslingMagnetic(r2, R2, n, theta_p0, hp0, phiS2, hpS2)[1]\n",
    "    # 取 z 分量（索引 2）\n",
    "    return (force1 + np.array(magForce1))[2] + (force2 + np.array(magForce2))[2]\n",
    "\n",
    "# 约束2：力矩平衡（取 z 分量）\n",
    "def g3(v, r1, R1, r2, R2, theta_p0, hp0, n):\n",
    "    hpS1, phiS1, hpS2, phiS2 = v\n",
    "    torque1 = Ttotal(hpS1 - hpS2, phiS1 - phiS2, r1, R1, theta_p0, hp0, 1, 1, n)\n",
    "    magTorque1 = KreslingMagnetic(r1, R1, n, theta_p0, hp0, phiS1 - phiS2, hpS1 - hpS2)[2]\n",
    "    torque2 = Ttotal(hpS2, phiS2, r2, R2, theta_p0, hp0, 1, 1, n)\n",
    "    magTorque2 = KreslingMagnetic(r2, R2, n, theta_p0, hp0, phiS2, hpS2)[2]\n",
    "    return torque1 + np.array(magTorque1) + torque2 + np.array(magTorque2)\n",
    "\n",
    "# 约束3：能量函数对 hpS1 的偏导数为零\n",
    "def g4(v, r, R, theta_p0, hp0, n):\n",
    "    # 只依赖于 hpS1 和 phiS1（其中 hpS1 在路径中固定）\n",
    "    return d_totalU_d_hpS1(v, r, R, theta_p0, hp0, n)\n",
    "\n",
    "# 中心差分计算 totalU 对 hpS1 的偏导数\n",
    "def d_totalU_d_hpS1(v, r, R, theta_p0, hp0, n, eps=1e-6):\n",
    "    hpS1, phiS1, hpS2, phiS2 = v\n",
    "    return (totalU(hpS1 + eps - hpS2, phiS1 - phiS2, r, R, theta_p0, hp0, n) - \n",
    "            totalU(hpS1 - eps - hpS2, phiS1 - phiS2, r, R, theta_p0, hp0, n)) / (2 * eps)\n",
    "\n",
    "# -------------------------------\n",
    "# 固定 hpS1 下求解其余三个未知数（phiS1, hpS2, phiS2）的方程组\n",
    "# -------------------------------\n",
    "def equations_with_fixed_hpS1(x, hpS1, r1, R1, r2, R2, theta_p0, hp0, n):\n",
    "    # x = [phiS1, hpS2, phiS2]\n",
    "    phiS1, hpS2, phiS2 = x\n",
    "    # 构造完整变量向量 v，其中 hpS1 固定\n",
    "    v = [hpS1, phiS1, hpS2, phiS2]\n",
    "    eq1 = g2(v, r1, R1, r2, R2, theta_p0, hp0, n)\n",
    "    eq2 = g3(v, r1, R1, r2, R2, theta_p0, hp0, n)\n",
    "    eq3 = g4(v, r1, R1, theta_p0, hp0, n)\n",
    "    return [eq1, eq2, eq3]\n",
    "\n",
    "# -------------------------------\n",
    "# 求解与绘图\n",
    "# -------------------------------\n",
    "\n",
    "# 示例参数\n",
    "R1 = 4                # 外径\n",
    "r1 = 4                # 内径\n",
    "R2 = 4                # 外径\n",
    "r2 = 4                # 内径\n",
    "theta_p0 = np.pi/4   # 示例角度\n",
    "hp0 = 6              # 示例高度\n",
    "n = 6                # 节点数\n",
    "\n",
    "# 先选择一个固定的 hpS1 值（例如 0.5），求解其余变量\n",
    "hpS1_fixed = 12\n",
    "initial_guess_fixed = [0, 6, 0]  # 对应 phiS1, hpS2, phiS2 的初值\n",
    "\n",
    "sol_fixed = fsolve(equations_with_fixed_hpS1, initial_guess_fixed, args=(hpS1_fixed, r1, R1, r2, R2, theta_p0, hp0, n))\n",
    "phiS1_sol, hpS2_sol, phiS2_sol = sol_fixed\n",
    "\n",
    "print(\"对于固定 hpS1 = {:.4f}，求得：\".format(hpS1_fixed))\n",
    "print(\"  phiS1 = {:.4f}\".format(phiS1_sol))\n",
    "print(\"  hpS2  = {:.4f}\".format(hpS2_sol))\n",
    "print(\"  phiS2 = {:.4f}\".format(phiS2_sol))\n",
    "\n",
    "# 计算总能量\n",
    "f_value = totalU(hpS1_fixed - hpS2_sol, phiS1_sol - phiS2_sol, r1, R1, theta_p0, hp0, n) + totalU(hpS2_sol, phiS2_sol, r2, R2, theta_p0, hp0, n)\n",
    "print(\"对于 hpS1 = {:.4f}，总能量 f = {:.4f}\".format(hpS1_fixed, f_value))\n",
    "\n",
    "# -------------------------------\n",
    "# 绘图：沿 hpS1 路径求解 (hpS1 为自由参数)\n",
    "# -------------------------------\n",
    "hpS1_values = np.linspace(9, 13, 400)  # 扫描 hpS1\n",
    "energy_values = []\n",
    "results = []  # 用于保存每个 hpS1 对应的求解结果\n",
    "\n",
    "for hpS1 in hpS1_values:\n",
    "    # 对每个 hpS1，求解其余三个未知数\n",
    "    sol = fsolve(equations_with_fixed_hpS1, initial_guess_fixed, args=(hpS1, r1, R1, r2, R2, theta_p0, hp0, n))\n",
    "    phiS1_sol, hpS2_sol, phiS2_sol = sol\n",
    "    energy = totalU(hpS1 - hpS2_sol, phiS1_sol - phiS2_sol, r1, R1, theta_p0, hp0, n) + totalU(hpS2_sol, phiS2_sol, r2, R2, theta_p0, hp0, n)\n",
    "    # 将 hpS1, phiS1, hpS2, phiS2 以及能量值存储到 results 中\n",
    "    results.append([hpS1, phiS1_sol, hpS2_sol, phiS2_sol, energy])\n",
    "    energy_values.append(energy)\n",
    "    \n",
    "# 转换为 NumPy 数组以便后续查看或处理\n",
    "results = np.array(results)\n",
    "\n",
    "plt.plot(hpS1_values, energy_values, 'b-', linewidth=2)\n",
    "plt.xlabel('hpS1')\n",
    "plt.ylabel('Total Energy f')\n",
    "plt.title('Total Energy vs. hpS1 (路径问题)')\n",
    "plt.grid(True)\n",
    "plt.show()"
   ]
  },
  {
   "cell_type": "code",
   "execution_count": null,
   "metadata": {},
   "outputs": [
    {
     "data": {
      "application/vnd.plotly.v1+json": {
       "config": {
        "plotlyServerURL": "https://plot.ly"
       },
       "data": [
        {
         "line": {
          "color": "blue"
         },
         "mode": "lines",
         "name": "Trajectory",
         "type": "scatter3d",
         "x": {
          "bdata": "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",
          "dtype": "f8"
         },
         "y": {
          "bdata": "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",
          "dtype": "f8"
         },
         "z": {
          "bdata": "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",
          "dtype": "f8"
         }
        },
        {
         "colorscale": [
          [
           0,
           "#440154"
          ],
          [
           0.1111111111111111,
           "#482878"
          ],
          [
           0.2222222222222222,
           "#3e4989"
          ],
          [
           0.3333333333333333,
           "#31688e"
          ],
          [
           0.4444444444444444,
           "#26828e"
          ],
          [
           0.5555555555555556,
           "#1f9e89"
          ],
          [
           0.6666666666666666,
           "#35b779"
          ],
          [
           0.7777777777777778,
           "#6ece58"
          ],
          [
           0.8888888888888888,
           "#b5de2b"
          ],
          [
           1,
           "#fde725"
          ]
         ],
         "showscale": false,
         "sizemode": "absolute",
         "sizeref": 1,
         "type": "cone",
         "u": {
          "bdata": "S9Q5LQQ03b95vEOrdYTev4WEBfw4Mey/fRGFudAq3L+olfCBiinfv4I90ueEx+C/Txe9NVP94L+B1MlLfL/hv66Hb2bPHeK/caNe6ct+4L+oNzZrIhXjv1R3Dbwe0+O/TfkrNmzo47+2Y8yBSBPkv2jc2KU2QuW/cS3YihUA6L8nF6sPia/sv3qB4Y4PGLy/Bc+9/jlCxL/DhqBv11KDv4/+5M+AxW0/+wNVOkZB7r+xRiWuJv7vv8y1pMyblu+/exHaY78C77+DmAhD/sjuv7zc/UHr9u6/4ervVb5477/mWWAz/PvvvzGuyIQ90e6/vyz+8dyj0L/HYS6LGpHlv0V2zbx8W+W/PYTIn5ZZ5b91AX+TUVHnv0C8VGean+O/v6HGdALR5L+6Z1t+6cjnv176i1pgYeO/qKznRZrJ5L8=",
          "dtype": "f8"
         },
         "v": {
          "bdata": "p2zTYJBD6z/4nL1SneTqP+hz6CAlLd0/EidYFN9f6z9B8HBfI5nqP1EB0LQb5uk/4VGaorC96T9qHowK0zvpP4BWndXD9eg/BbqGNw3n6T/xfQxgZjvoP3Rv+hSyqOc/PgvgSf2P5z+2H1RHiGfnP8oLxTgYbuY/kze3D8HQ4z/8vOhtCKnavzxY6N9+O+4/pWDqjl/y7T/54oxcjqDtP2kI4zfale2/qc1bHumj0r9y7E/GkxmSv9nOyyPqh8I/FgjUach9zD8XdFAjyHjPP4lKJMYOFM0/DjgYqNHexD8R13+gTY2dPy9P3Msxys6/Ht2FWTgp7D80IsWB8JLlP5KN1IvTu+U/bWlzjkq55T9QSM9SiAnkP8ZnrgqD8OY/7b7ab3UJ5j/U+W58TorjP6CWG0ClPOc/kQI3QzQm5j8=",
          "dtype": "f8"
         },
         "w": {
          "bdata": "7cIkFKNt0L+tlbQaGnzQvzlOIbNzMMC/2NCKWvl30b+RNEYsXi3Rv/LLPqh079C/YfWgaUAP0b/jUxl8mADRv9ylJqpJENG/7npuY/T+0b+i0CH2eAzRv2upWLlS4dC/L4SONhoH0b/ozo0x8hzRv3jsQdrVm9C/RGk/ihjBzb+bEqGWjV3DP8hkqan7w9O/872wAkYn1L+aKnlyeS3YvyEypPVPY9g/gche+PWpwj8wlM5hTSOIP+TFjxeZX7G/CG6NMyM/u7+Gro4R0lO+vxus1kGIHby/31VTyTEZtL+ed9d0eNaIv4YR9DaNBr8/3k+qIFhv2b/hTSioG1XTv3wGK0W2i9O/xKsMtj6f07+FaMeQ4sDRv4jDph5lO9W/cVvABqd/1L8JkV/iBn3Rv3FLRzfg09S/76iPT/Ag1L8=",
          "dtype": "f8"
         },
         "x": {
          "bdata": "vJ2aKHpW8j+B/sZhHNTxP4NAEosoUPE/+I3D3k3K8D9xxXES20LwPwWU8sxyc+8/goS4qMdd7j/zeM9pokTtP/nASJkDKOw/k7XpzOAH6z/u7SZ/K+TpPyOFfFrPvOg/07ReD7uR5z9TEmPltmLmP83+H4+FL+U/JDY8M2734z9WGL+pQLfiP97rKIa0pN4/xs7pq9Iy3T8aXAOmt2fbPwe1tP/p0tg/xmu6svi21j+e7crK9XDUPyuSG6pvDdI/J0DqaMEozz/s7GtyZRXKP2NH8zLi5sQ/MZHMaiNCvz+Zb6167Iy0P8bM7cMmY6M/Qs3K0Mt6c79Fc2rorVapv34Ut9wApbi/QhfP0k5iwr9O1AtP74TIvz+oD4gqus6/vP08G4KB0r+IriRPna7Vv93bULRS5di/JjOHgq4k3L8=",
          "dtype": "f8"
         },
         "y": {
          "bdata": "eiyYUx66EUBpEM923vMRQMKKf+AvLxJACa/JVVtkEkAqn3QNEpsSQOzAc55S0RJAwTU/PDEHE0DuSr/x2zsTQAvPrz/ZbxNAvnP4pB6jE0CPnpxojdUTQCj2M5CQBhRAL3S3SQw2FEAvqIW/hGIUQP8EqgGyihRAUbTj5wurFEADs7qitbUUQJH8OicsCRJABnXQ6diwEkCua2/D0EETQOBftb7hhxhAy9mU0C91GECtvNVrQm8YQFljJ36+cRhAnEsH8T95GECJ8QzcN4MYQHuGkOOTjRhA2Eq3d1qWGEBhQCOaHpsYQPfwNOq0lxhA9xZ19VKPF0CTeNB8rjkYQEtWXA9XahhAKGPvt5GbGEBwrEMTbc0YQOieaYc1/hhAj5Q3ALUuGUAJUuM7B2MZQOEjKsBelRlAW2apkIjHGUA=",
          "dtype": "f8"
         },
         "z": {
          "bdata": "Er1baGvY4j+jfufQ9EviPyxtOyzZuOE/9kUrzXEz4T9M47IBtKfgP3G08m3yGuA/9BDdFewZ3z/Mgr+aLQDePz/mYUbi5dw/RpSsNnDL2z+9xdB8oLHaP9Hegr7ym9k/zu7mhliL2D8wswi7qYjXP6wMZIcWnNY/p/ViSz/b1T8tWrT2vZnVPya8CjWHT+I/Rfega0+T4D9hkoQrAxHeP4rbaHL5ubC//zeIG0HMrL/xguPu4kmrv/nFTeBT1qu/CVDa4g+erb+KRTCcSgGwv0wDfy1VQbG/WeWmU6xQsr9zTXgNuuGyv7GEl0Rxb7K/sEZeNRGaqT8w7CcxQFKbv3mtFmDEmKi/ZO+Tf4XZsb/cvhgqeXy3v1SA8xJc+7y/+yp96L00wb9eGkD30yjEv6wWyIF2+ca/HxPd3sK8yb8=",
          "dtype": "f8"
         }
        }
       ],
       "layout": {
        "scene": {
         "xaxis": {
          "range": [
           -0.4858390870758806,
           1.1461125932781746
          ]
         },
         "yaxis": {
          "range": [
           4.431756311572025,
           6.489980043565946
          ]
         },
         "zaxis": {
          "range": [
           -0.22074907636676575,
           0.5889184034585091
          ]
         }
        },
        "template": {
         "data": {
          "bar": [
           {
            "error_x": {
             "color": "#2a3f5f"
            },
            "error_y": {
             "color": "#2a3f5f"
            },
            "marker": {
             "line": {
              "color": "#E5ECF6",
              "width": 0.5
             },
             "pattern": {
              "fillmode": "overlay",
              "size": 10,
              "solidity": 0.2
             }
            },
            "type": "bar"
           }
          ],
          "barpolar": [
           {
            "marker": {
             "line": {
              "color": "#E5ECF6",
              "width": 0.5
             },
             "pattern": {
              "fillmode": "overlay",
              "size": 10,
              "solidity": 0.2
             }
            },
            "type": "barpolar"
           }
          ],
          "carpet": [
           {
            "aaxis": {
             "endlinecolor": "#2a3f5f",
             "gridcolor": "white",
             "linecolor": "white",
             "minorgridcolor": "white",
             "startlinecolor": "#2a3f5f"
            },
            "baxis": {
             "endlinecolor": "#2a3f5f",
             "gridcolor": "white",
             "linecolor": "white",
             "minorgridcolor": "white",
             "startlinecolor": "#2a3f5f"
            },
            "type": "carpet"
           }
          ],
          "choropleth": [
           {
            "colorbar": {
             "outlinewidth": 0,
             "ticks": ""
            },
            "type": "choropleth"
           }
          ],
          "contour": [
           {
            "colorbar": {
             "outlinewidth": 0,
             "ticks": ""
            },
            "colorscale": [
             [
              0,
              "#0d0887"
             ],
             [
              0.1111111111111111,
              "#46039f"
             ],
             [
              0.2222222222222222,
              "#7201a8"
             ],
             [
              0.3333333333333333,
              "#9c179e"
             ],
             [
              0.4444444444444444,
              "#bd3786"
             ],
             [
              0.5555555555555556,
              "#d8576b"
             ],
             [
              0.6666666666666666,
              "#ed7953"
             ],
             [
              0.7777777777777778,
              "#fb9f3a"
             ],
             [
              0.8888888888888888,
              "#fdca26"
             ],
             [
              1,
              "#f0f921"
             ]
            ],
            "type": "contour"
           }
          ],
          "contourcarpet": [
           {
            "colorbar": {
             "outlinewidth": 0,
             "ticks": ""
            },
            "type": "contourcarpet"
           }
          ],
          "heatmap": [
           {
            "colorbar": {
             "outlinewidth": 0,
             "ticks": ""
            },
            "colorscale": [
             [
              0,
              "#0d0887"
             ],
             [
              0.1111111111111111,
              "#46039f"
             ],
             [
              0.2222222222222222,
              "#7201a8"
             ],
             [
              0.3333333333333333,
              "#9c179e"
             ],
             [
              0.4444444444444444,
              "#bd3786"
             ],
             [
              0.5555555555555556,
              "#d8576b"
             ],
             [
              0.6666666666666666,
              "#ed7953"
             ],
             [
              0.7777777777777778,
              "#fb9f3a"
             ],
             [
              0.8888888888888888,
              "#fdca26"
             ],
             [
              1,
              "#f0f921"
             ]
            ],
            "type": "heatmap"
           }
          ],
          "histogram": [
           {
            "marker": {
             "pattern": {
              "fillmode": "overlay",
              "size": 10,
              "solidity": 0.2
             }
            },
            "type": "histogram"
           }
          ],
          "histogram2d": [
           {
            "colorbar": {
             "outlinewidth": 0,
             "ticks": ""
            },
            "colorscale": [
             [
              0,
              "#0d0887"
             ],
             [
              0.1111111111111111,
              "#46039f"
             ],
             [
              0.2222222222222222,
              "#7201a8"
             ],
             [
              0.3333333333333333,
              "#9c179e"
             ],
             [
              0.4444444444444444,
              "#bd3786"
             ],
             [
              0.5555555555555556,
              "#d8576b"
             ],
             [
              0.6666666666666666,
              "#ed7953"
             ],
             [
              0.7777777777777778,
              "#fb9f3a"
             ],
             [
              0.8888888888888888,
              "#fdca26"
             ],
             [
              1,
              "#f0f921"
             ]
            ],
            "type": "histogram2d"
           }
          ],
          "histogram2dcontour": [
           {
            "colorbar": {
             "outlinewidth": 0,
             "ticks": ""
            },
            "colorscale": [
             [
              0,
              "#0d0887"
             ],
             [
              0.1111111111111111,
              "#46039f"
             ],
             [
              0.2222222222222222,
              "#7201a8"
             ],
             [
              0.3333333333333333,
              "#9c179e"
             ],
             [
              0.4444444444444444,
              "#bd3786"
             ],
             [
              0.5555555555555556,
              "#d8576b"
             ],
             [
              0.6666666666666666,
              "#ed7953"
             ],
             [
              0.7777777777777778,
              "#fb9f3a"
             ],
             [
              0.8888888888888888,
              "#fdca26"
             ],
             [
              1,
              "#f0f921"
             ]
            ],
            "type": "histogram2dcontour"
           }
          ],
          "mesh3d": [
           {
            "colorbar": {
             "outlinewidth": 0,
             "ticks": ""
            },
            "type": "mesh3d"
           }
          ],
          "parcoords": [
           {
            "line": {
             "colorbar": {
              "outlinewidth": 0,
              "ticks": ""
             }
            },
            "type": "parcoords"
           }
          ],
          "pie": [
           {
            "automargin": true,
            "type": "pie"
           }
          ],
          "scatter": [
           {
            "fillpattern": {
             "fillmode": "overlay",
             "size": 10,
             "solidity": 0.2
            },
            "type": "scatter"
           }
          ],
          "scatter3d": [
           {
            "line": {
             "colorbar": {
              "outlinewidth": 0,
              "ticks": ""
             }
            },
            "marker": {
             "colorbar": {
              "outlinewidth": 0,
              "ticks": ""
             }
            },
            "type": "scatter3d"
           }
          ],
          "scattercarpet": [
           {
            "marker": {
             "colorbar": {
              "outlinewidth": 0,
              "ticks": ""
             }
            },
            "type": "scattercarpet"
           }
          ],
          "scattergeo": [
           {
            "marker": {
             "colorbar": {
              "outlinewidth": 0,
              "ticks": ""
             }
            },
            "type": "scattergeo"
           }
          ],
          "scattergl": [
           {
            "marker": {
             "colorbar": {
              "outlinewidth": 0,
              "ticks": ""
             }
            },
            "type": "scattergl"
           }
          ],
          "scattermap": [
           {
            "marker": {
             "colorbar": {
              "outlinewidth": 0,
              "ticks": ""
             }
            },
            "type": "scattermap"
           }
          ],
          "scattermapbox": [
           {
            "marker": {
             "colorbar": {
              "outlinewidth": 0,
              "ticks": ""
             }
            },
            "type": "scattermapbox"
           }
          ],
          "scatterpolar": [
           {
            "marker": {
             "colorbar": {
              "outlinewidth": 0,
              "ticks": ""
             }
            },
            "type": "scatterpolar"
           }
          ],
          "scatterpolargl": [
           {
            "marker": {
             "colorbar": {
              "outlinewidth": 0,
              "ticks": ""
             }
            },
            "type": "scatterpolargl"
           }
          ],
          "scatterternary": [
           {
            "marker": {
             "colorbar": {
              "outlinewidth": 0,
              "ticks": ""
             }
            },
            "type": "scatterternary"
           }
          ],
          "surface": [
           {
            "colorbar": {
             "outlinewidth": 0,
             "ticks": ""
            },
            "colorscale": [
             [
              0,
              "#0d0887"
             ],
             [
              0.1111111111111111,
              "#46039f"
             ],
             [
              0.2222222222222222,
              "#7201a8"
             ],
             [
              0.3333333333333333,
              "#9c179e"
             ],
             [
              0.4444444444444444,
              "#bd3786"
             ],
             [
              0.5555555555555556,
              "#d8576b"
             ],
             [
              0.6666666666666666,
              "#ed7953"
             ],
             [
              0.7777777777777778,
              "#fb9f3a"
             ],
             [
              0.8888888888888888,
              "#fdca26"
             ],
             [
              1,
              "#f0f921"
             ]
            ],
            "type": "surface"
           }
          ],
          "table": [
           {
            "cells": {
             "fill": {
              "color": "#EBF0F8"
             },
             "line": {
              "color": "white"
             }
            },
            "header": {
             "fill": {
              "color": "#C8D4E3"
             },
             "line": {
              "color": "white"
             }
            },
            "type": "table"
           }
          ]
         },
         "layout": {
          "annotationdefaults": {
           "arrowcolor": "#2a3f5f",
           "arrowhead": 0,
           "arrowwidth": 1
          },
          "autotypenumbers": "strict",
          "coloraxis": {
           "colorbar": {
            "outlinewidth": 0,
            "ticks": ""
           }
          },
          "colorscale": {
           "diverging": [
            [
             0,
             "#8e0152"
            ],
            [
             0.1,
             "#c51b7d"
            ],
            [
             0.2,
             "#de77ae"
            ],
            [
             0.3,
             "#f1b6da"
            ],
            [
             0.4,
             "#fde0ef"
            ],
            [
             0.5,
             "#f7f7f7"
            ],
            [
             0.6,
             "#e6f5d0"
            ],
            [
             0.7,
             "#b8e186"
            ],
            [
             0.8,
             "#7fbc41"
            ],
            [
             0.9,
             "#4d9221"
            ],
            [
             1,
             "#276419"
            ]
           ],
           "sequential": [
            [
             0,
             "#0d0887"
            ],
            [
             0.1111111111111111,
             "#46039f"
            ],
            [
             0.2222222222222222,
             "#7201a8"
            ],
            [
             0.3333333333333333,
             "#9c179e"
            ],
            [
             0.4444444444444444,
             "#bd3786"
            ],
            [
             0.5555555555555556,
             "#d8576b"
            ],
            [
             0.6666666666666666,
             "#ed7953"
            ],
            [
             0.7777777777777778,
             "#fb9f3a"
            ],
            [
             0.8888888888888888,
             "#fdca26"
            ],
            [
             1,
             "#f0f921"
            ]
           ],
           "sequentialminus": [
            [
             0,
             "#0d0887"
            ],
            [
             0.1111111111111111,
             "#46039f"
            ],
            [
             0.2222222222222222,
             "#7201a8"
            ],
            [
             0.3333333333333333,
             "#9c179e"
            ],
            [
             0.4444444444444444,
             "#bd3786"
            ],
            [
             0.5555555555555556,
             "#d8576b"
            ],
            [
             0.6666666666666666,
             "#ed7953"
            ],
            [
             0.7777777777777778,
             "#fb9f3a"
            ],
            [
             0.8888888888888888,
             "#fdca26"
            ],
            [
             1,
             "#f0f921"
            ]
           ]
          },
          "colorway": [
           "#636efa",
           "#EF553B",
           "#00cc96",
           "#ab63fa",
           "#FFA15A",
           "#19d3f3",
           "#FF6692",
           "#B6E880",
           "#FF97FF",
           "#FECB52"
          ],
          "font": {
           "color": "#2a3f5f"
          },
          "geo": {
           "bgcolor": "white",
           "lakecolor": "white",
           "landcolor": "#E5ECF6",
           "showlakes": true,
           "showland": true,
           "subunitcolor": "white"
          },
          "hoverlabel": {
           "align": "left"
          },
          "hovermode": "closest",
          "mapbox": {
           "style": "light"
          },
          "paper_bgcolor": "white",
          "plot_bgcolor": "#E5ECF6",
          "polar": {
           "angularaxis": {
            "gridcolor": "white",
            "linecolor": "white",
            "ticks": ""
           },
           "bgcolor": "#E5ECF6",
           "radialaxis": {
            "gridcolor": "white",
            "linecolor": "white",
            "ticks": ""
           }
          },
          "scene": {
           "xaxis": {
            "backgroundcolor": "#E5ECF6",
            "gridcolor": "white",
            "gridwidth": 2,
            "linecolor": "white",
            "showbackground": true,
            "ticks": "",
            "zerolinecolor": "white"
           },
           "yaxis": {
            "backgroundcolor": "#E5ECF6",
            "gridcolor": "white",
            "gridwidth": 2,
            "linecolor": "white",
            "showbackground": true,
            "ticks": "",
            "zerolinecolor": "white"
           },
           "zaxis": {
            "backgroundcolor": "#E5ECF6",
            "gridcolor": "white",
            "gridwidth": 2,
            "linecolor": "white",
            "showbackground": true,
            "ticks": "",
            "zerolinecolor": "white"
           }
          },
          "shapedefaults": {
           "line": {
            "color": "#2a3f5f"
           }
          },
          "ternary": {
           "aaxis": {
            "gridcolor": "white",
            "linecolor": "white",
            "ticks": ""
           },
           "baxis": {
            "gridcolor": "white",
            "linecolor": "white",
            "ticks": ""
           },
           "bgcolor": "#E5ECF6",
           "caxis": {
            "gridcolor": "white",
            "linecolor": "white",
            "ticks": ""
           }
          },
          "title": {
           "x": 0.05
          },
          "xaxis": {
           "automargin": true,
           "gridcolor": "white",
           "linecolor": "white",
           "ticks": "",
           "title": {
            "standoff": 15
           },
           "zerolinecolor": "white",
           "zerolinewidth": 2
          },
          "yaxis": {
           "automargin": true,
           "gridcolor": "white",
           "linecolor": "white",
           "ticks": "",
           "title": {
            "standoff": 15
           },
           "zerolinecolor": "white",
           "zerolinewidth": 2
          }
         }
        }
       }
      }
     },
     "metadata": {},
     "output_type": "display_data"
    }
   ],
   "source": [
    "# %%\n",
    "import numpy as np\n",
    "import plotly.graph_objects as go\n",
    "# 提取数据\n",
    "x = results[:, 1]  # 第二列\n",
    "y = results[:, 2]  # 第三列\n",
    "z = results[:, 3]  # 第四列\n",
    "t = results[:, 0]  # 第一列作为变化方向\n",
    "\n",
    "# 计算切向量\n",
    "dx = np.diff(x)\n",
    "dy = np.diff(y)\n",
    "dz = np.diff(z)\n",
    "\n",
    "# 选择箭头的间隔，假设我们每隔10个点添加一个箭头\n",
    "arrow_interval = 10\n",
    "\n",
    "# 创建箭头数据\n",
    "arrow_x = x[:-1:arrow_interval]\n",
    "arrow_y = y[:-1:arrow_interval]\n",
    "arrow_z = z[:-1:arrow_interval]\n",
    "arrow_dx = dx[::arrow_interval]\n",
    "arrow_dy = dy[::arrow_interval]\n",
    "arrow_dz = dz[::arrow_interval]\n",
    "\n",
    "# 归一化方向向量\n",
    "magnitude = np.sqrt(arrow_dx**2 + arrow_dy**2 + arrow_dz**2)\n",
    "arrow_dx /= magnitude\n",
    "arrow_dy /= magnitude\n",
    "arrow_dz /= magnitude\n",
    "\n",
    "\n",
    "# 创建3D图形\n",
    "fig = go.Figure()\n",
    "\n",
    "# 绘制三维轨迹\n",
    "fig.add_trace(go.Scatter3d(x=x, y=y, z=z, mode='lines', name='Trajectory', line=dict(color='blue')))\n",
    "\n",
    "fig.add_trace(go.Cone(x=arrow_x, y=arrow_y, z=arrow_z, u=arrow_dx, v=arrow_dy, w=arrow_dz, \n",
    "                     colorscale='Viridis', showscale=False, sizemode=\"absolute\", sizeref=1))\n",
    "\n",
    "\n",
    "x_min, x_max = np.min(x), np.max(x)\n",
    "y_min, y_max = np.min(y), np.max(y)\n",
    "z_min, z_max = np.min(z), np.max(z)\n",
    "\n",
    "fig.update_layout(\n",
    "    scene=dict(\n",
    "        xaxis=dict(range=[x_min, x_max]),\n",
    "        yaxis=dict(range=[y_min, y_max]),\n",
    "        zaxis=dict(range=[z_min, z_max]),\n",
    "    ),\n",
    ")\n",
    "\n",
    "\n",
    "# 显示图像\n",
    "fig.show()\n"
   ]
  },
  {
   "cell_type": "code",
   "execution_count": null,
   "metadata": {},
   "outputs": [],
   "source": [
    "import csv\n",
    "\n",
    "# 写入 CSV 文件\n",
    "with open(\"n6r4.csv\", \"w\", newline=\"\") as f:\n",
    "    writer = csv.writer(f)\n",
    "    writer.writerows(results)\n"
   ]
  }
 ],
 "metadata": {
  "language_info": {
   "codemirror_mode": {
    "name": "ipython",
    "version": 3
   },
   "file_extension": ".py",
   "mimetype": "text/x-python",
   "name": "python",
   "nbconvert_exporter": "python",
   "pygments_lexer": "ipython3",
   "version": 3
  }
 },
 "nbformat": 4,
 "nbformat_minor": 2
}
